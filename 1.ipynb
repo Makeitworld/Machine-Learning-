{
 "cells": [
  {
   "cell_type": "code",
   "execution_count": 1,
   "metadata": {},
   "outputs": [],
   "source": [
    "\n",
    "\n",
    "import pandas as pd\n",
    "from sklearn.ensemble import RandomForestRegressor\n",
    "from sklearn.impute import SimpleImputer\n",
    "from sklearn.preprocessing import StandardScaler\n",
    "from sklearn.model_selection import train_test_split\n",
    "import joblib\n",
    "\n",
    "# Load the transformed data from CSV\n",
    "pivoted_df = pd.read_csv('transformed_data.csv')\n",
    "\n",
    "# Drop rows where target ('close_volume') is NaN\n",
    "pivoted_df = pivoted_df.dropna(subset=['close_volume'])\n",
    "\n",
    "# Extract the features (seconds_bucket columns) and target ('close_volume')\n",
    "X = pivoted_df.drop(columns=['symbol_id', 'date_id', 'close_volume'])  # Features\n",
    "y = pivoted_df['close_volume']  # Target\n",
    "\n",
    "# Handle missing values in features using mean imputation\n",
    "imputer = SimpleImputer(strategy='mean')\n",
    "X_imputed = imputer.fit_transform(X)\n",
    "\n",
    "# Scale the features\n",
    "scaler = StandardScaler()\n",
    "X_scaled = scaler.fit_transform(X_imputed)\n",
    "\n",
    "# Split the data into training and test sets\n",
    "X_train, X_test, y_train, y_test = train_test_split(X_scaled, y, test_size=0.2, random_state=42)\n",
    "\n",
    "# Initialize Random Forest model\n",
    "random_forest = RandomForestRegressor(n_estimators=100, random_state=42)\n",
    "\n",
    "# Train the Random Forest model on the training data\n",
    "random_forest.fit(X_train, y_train)\n",
    "\n",
    "# Save the trained model\n",
    "joblib.dump(random_forest, 'pretrained_model.pkl')\n",
    "\n",
    "# Print message\n",
    "print(\"Model saved as pretrained_model.pkl.\")\n"
   ]
  }
 ],
 "metadata": {
  "kernelspec": {
   "display_name": "Python 3",
   "language": "python",
   "name": "python3"
  },
  "language_info": {
   "codemirror_mode": {
    "name": "ipython",
    "version": 3
   },
   "file_extension": ".py",
   "mimetype": "text/x-python",
   "name": "python",
   "nbconvert_exporter": "python",
   "pygments_lexer": "ipython3",
   "version": "3.11.9"
  }
 },
 "nbformat": 4,
 "nbformat_minor": 2
}
